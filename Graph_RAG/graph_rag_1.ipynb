{
 "cells": [
  {
   "cell_type": "markdown",
   "metadata": {},
   "source": [
    "# Using GraphRAG for unstructured data"
   ]
  },
  {
   "cell_type": "code",
   "execution_count": 1,
   "metadata": {},
   "outputs": [
    {
     "data": {
      "text/plain": [
       "True"
      ]
     },
     "execution_count": 1,
     "metadata": {},
     "output_type": "execute_result"
    }
   ],
   "source": [
    "from dotenv import load_dotenv\n",
    "import os\n",
    "\n",
    "load_dotenv()"
   ]
  },
  {
   "cell_type": "code",
   "execution_count": 2,
   "metadata": {},
   "outputs": [],
   "source": [
    "from langchain.graphs import Neo4jGraph\n",
    "graph = Neo4jGraph()"
   ]
  },
  {
   "cell_type": "code",
   "execution_count": 3,
   "metadata": {},
   "outputs": [
    {
     "name": "stderr",
     "output_type": "stream",
     "text": [
      "/Users/himankjain/Desktop/Langchain/llm/lib/python3.11/site-packages/wikipedia/wikipedia.py:389: GuessedAtParserWarning: No parser was explicitly specified, so I'm using the best available HTML parser for this system (\"html.parser\"). This usually isn't a problem, but if you run this code on another system, or in a different virtual environment, it may use a different parser and behave differently.\n",
      "\n",
      "The code that caused this warning is on line 389 of the file /Users/himankjain/Desktop/Langchain/llm/lib/python3.11/site-packages/wikipedia/wikipedia.py. To get rid of this warning, pass the additional argument 'features=\"html.parser\"' to the BeautifulSoup constructor.\n",
      "\n",
      "  lis = BeautifulSoup(html).find_all('li')\n"
     ]
    }
   ],
   "source": [
    "from langchain_community.document_loaders import WikipediaLoader\n",
    "from langchain_text_splitters import TokenTextSplitter\n",
    "\n",
    "raw_documents = WikipediaLoader(query=\"Elizabeth I\").load()\n",
    "text_splitter = TokenTextSplitter(chunk_size=512, chunk_overlap=24)\n",
    "documents = text_splitter.split_documents(raw_documents[:5])"
   ]
  },
  {
   "cell_type": "code",
   "execution_count": 4,
   "metadata": {},
   "outputs": [
    {
     "name": "stderr",
     "output_type": "stream",
     "text": [
      "/Users/himankjain/Desktop/Langchain/llm/lib/python3.11/site-packages/tqdm/auto.py:21: TqdmWarning: IProgress not found. Please update jupyter and ipywidgets. See https://ipywidgets.readthedocs.io/en/stable/user_install.html\n",
      "  from .autonotebook import tqdm as notebook_tqdm\n",
      "/Users/himankjain/Desktop/Langchain/llm/lib/python3.11/site-packages/langchain_core/_api/deprecation.py:119: LangChainDeprecationWarning: The class `AzureChatOpenAI` was deprecated in LangChain 0.0.10 and will be removed in 0.3.0. An updated version of the class exists in the langchain-openai package and should be used instead. To use it run `pip install -U langchain-openai` and import as `from langchain_openai import AzureChatOpenAI`.\n",
      "  warn_deprecated(\n"
     ]
    }
   ],
   "source": [
    "from langchain_community.chat_models import AzureChatOpenAI\n",
    "from langchain_google_genai import ChatGoogleGenerativeAI\n",
    "\n",
    "key = os.getenv('OPENAI_API_KEY')\n",
    "endpoint = os.getenv('OPENAI_API_ENDPOINT')\n",
    "gemini_key = os.getenv('GEMINI_KEY')\n",
    "\n",
    "gpt3 = AzureChatOpenAI(\n",
    "    deployment_name ='<name>',\n",
    "    openai_api_version = \"<version>\",\n",
    "    openai_api_key = key,\n",
    "    azure_endpoint = endpoint,\n",
    "    temperature = 0,\n",
    "    max_tokens = 2000,\n",
    "    request_timeout = 60,\n",
    "    max_retries = 3\n",
    ")\n",
    "\n",
    "gpt4 = AzureChatOpenAI(\n",
    "    deployment_name ='<name>',\n",
    "    openai_api_version = \"<version>\",\n",
    "     openai_api_key = key,\n",
    "    azure_endpoint = endpoint,\n",
    "    temperature = 0,\n",
    "    max_tokens = 2000,\n",
    "    request_timeout = 60,\n",
    "    max_retries = 3\n",
    ")\n",
    "\n",
    "gemini = ChatGoogleGenerativeAI(\n",
    "    model=\"gemini-pro\",\n",
    "    convert_system_message_to_human=True,\n",
    "    google_api_key = gemini_key,\n",
    "    max_retries=1,\n",
    "    temperature=0,\n",
    "    max_output_tokens=2048\n",
    ")"
   ]
  },
  {
   "cell_type": "code",
   "execution_count": 5,
   "metadata": {},
   "outputs": [],
   "source": [
    "from langchain_experimental.graph_transformers import LLMGraphTransformer\n",
    "llm_transformer = LLMGraphTransformer(llm=gpt4)"
   ]
  },
  {
   "cell_type": "code",
   "execution_count": 6,
   "metadata": {},
   "outputs": [],
   "source": [
    "graph_documents = llm_transformer.convert_to_graph_documents(documents)"
   ]
  },
  {
   "cell_type": "code",
   "execution_count": 7,
   "metadata": {},
   "outputs": [
    {
     "name": "stdout",
     "output_type": "stream",
     "text": [
      "Nodes:[Node(id='Mary', type='Person'), Node(id='Baron Burghley', type='Title'), Node(id='English Protestant church', type='Organization'), Node(id='House of Tudor', type='Family'), Node(id='Sir Francis Walsingham', type='Person'), Node(id='Edward VI', type='Person'), Node(id='William Cecil', type='Person'), Node(id='Mary, Queen of Scots', type='Person'), Node(id='Elizabeth I', type='Person'), Node(id='Henry VIII', type='Person'), Node(id='James VI of Scotland', type='Person'), Node(id='Anne Boleyn', type='Person'), Node(id='England and Ireland', type='Country')]\n",
      "Relationships:[Relationship(source=Node(id='Elizabeth I', type='Person'), target=Node(id='England and Ireland', type='Country'), type='RULES'), Relationship(source=Node(id='Elizabeth I', type='Person'), target=Node(id='House of Tudor', type='Family'), type='MEMBER_OF'), Relationship(source=Node(id='Elizabeth I', type='Person'), target=Node(id='Henry VIII', type='Person'), type='CHILD_OF'), Relationship(source=Node(id='Elizabeth I', type='Person'), target=Node(id='Anne Boleyn', type='Person'), type='CHILD_OF'), Relationship(source=Node(id='Henry VIII', type='Person'), target=Node(id='Anne Boleyn', type='Person'), type='MARRIED_TO'), Relationship(source=Node(id='Elizabeth I', type='Person'), target=Node(id='Edward VI', type='Person'), type='SIBLING_OF'), Relationship(source=Node(id='Edward VI', type='Person'), target=Node(id='England and Ireland', type='Country'), type='RULES'), Relationship(source=Node(id='Edward VI', type='Person'), target=Node(id='Mary', type='Person'), type='SIBLING_OF'), Relationship(source=Node(id='Edward VI', type='Person'), target=Node(id='Elizabeth I', type='Person'), type='SIBLING_OF'), Relationship(source=Node(id='Mary', type='Person'), target=Node(id='England and Ireland', type='Country'), type='RULES'), Relationship(source=Node(id='Elizabeth I', type='Person'), target=Node(id='William Cecil', type='Person'), type='ADVISED_BY'), Relationship(source=Node(id='William Cecil', type='Person'), target=Node(id='Baron Burghley', type='Title'), type='HAS_TITLE'), Relationship(source=Node(id='Elizabeth I', type='Person'), target=Node(id='English Protestant church', type='Organization'), type='ESTABLISHED'), Relationship(source=Node(id='Elizabeth I', type='Person'), target=Node(id='James VI of Scotland', type='Person'), type='SUCCEEDED_BY'), Relationship(source=Node(id='James VI of Scotland', type='Person'), target=Node(id='Mary, Queen of Scots', type='Person'), type='CHILD_OF'), Relationship(source=Node(id='Elizabeth I', type='Person'), target=Node(id='Sir Francis Walsingham', type='Person'), type='PROTECTED_BY')]\n"
     ]
    }
   ],
   "source": [
    "print(f\"Nodes:{graph_documents[0].nodes}\")\n",
    "print(f\"Relationships:{graph_documents[0].relationships}\")"
   ]
  },
  {
   "cell_type": "code",
   "execution_count": 8,
   "metadata": {},
   "outputs": [
    {
     "name": "stderr",
     "output_type": "stream",
     "text": [
      "Failed to write data to connection ResolvedIPv4Address(('34.126.171.25', 7687)) (ResolvedIPv4Address(('34.126.171.25', 7687)))\n",
      "Failed to write data to connection IPv4Address(('62343150.databases.neo4j.io', 7687)) (ResolvedIPv4Address(('34.126.171.25', 7687)))\n"
     ]
    }
   ],
   "source": [
    "url = os.getenv('NEO4J_URI')\n",
    "username = os.getenv('NEO4J_USERNAME')\n",
    "password = os.getenv('NEO4J_PASSWORD')\n",
    "\n",
    "graph = Neo4jGraph(\n",
    "    url=url, \n",
    "    username=username, \n",
    "    password=password\n",
    ")\n",
    "\n",
    "graph.add_graph_documents(\n",
    "  graph_documents, \n",
    "  baseEntityLabel=True, \n",
    "  include_source=True\n",
    ")"
   ]
  },
  {
   "cell_type": "code",
   "execution_count": 10,
   "metadata": {},
   "outputs": [],
   "source": [
    "from langchain.vectorstores.neo4j_vector import Neo4jVector\n",
    "from langchain_community.embeddings import HuggingFaceEmbeddings\n",
    "\n",
    "embeddings = HuggingFaceEmbeddings(model_name=\"sentence-transformers/all-MiniLM-l6-v2\")\n",
    "\n",
    "vector_index = Neo4jVector.from_existing_graph(\n",
    "    embeddings,\n",
    "    search_type=\"hybrid\",\n",
    "    node_label=\"Document\",\n",
    "    text_node_properties=[\"text\"],\n",
    "    embedding_node_property=\"embedding\"\n",
    ")"
   ]
  },
  {
   "cell_type": "code",
   "execution_count": 11,
   "metadata": {},
   "outputs": [],
   "source": [
    "response = vector_index.similarity_search(\n",
    "    \"Where was Elizabeth born?\"\n",
    ")"
   ]
  },
  {
   "cell_type": "code",
   "execution_count": 12,
   "metadata": {},
   "outputs": [
    {
     "name": "stdout",
     "output_type": "stream",
     "text": [
      "\n",
      "text: Elizabeth I (7 September 1533 – 24 March 1603) was Queen of England and Ireland from 17 November 1558 until her death in 1603. She was the last monarch of the House of Tudor.\n",
      "Elizabeth was the only surviving child of Henry VIII and Anne Boleyn, his second wife, who was executed when Elizabeth was two years old. Anne's marriage to Henry was annulled, and Elizabeth was declared illegitimate. Henry restored her to the line of succession when she was 10, via the Third Succession Act 1543. After Henry's death in 1547, Elizabeth's younger half-brother Edward VI ruled until his own death in 1553, bequeathing the crown to a Protestant cousin, Lady Jane Grey, and ignoring the claims of his two half-sisters, the Catholic Mary and the younger Elizabeth, in spite of statutes to the contrary. Edward's will was set aside within weeks of his death and Mary became queen, deposing and executing Jane. During Mary's reign, Elizabeth was imprisoned for nearly a year on suspicion of supporting Protestant rebels.\n",
      "Upon her half-sister's death in 1558, Elizabeth succeeded to the throne and set out to rule by good counsel. She depended heavily on a group of trusted advisers led by William Cecil, whom she created Baron Burghley. One of her first actions as queen was the establishment of an English Protestant church, of which she became the supreme governor. This era, later named the Elizabethan Religious Settlement, would evolve into the Church of England. It was expected that Elizabeth would marry and produce an heir; however, despite numerous courtships, she never did, and because of this she is sometimes referred to as the \"Virgin Queen\". She was eventually succeeded by her first cousin twice removed, James VI of Scotland, the son of Mary, Queen of Scots.\n",
      "In government, Elizabeth was more moderate than her father and siblings had been. One of her mottoes was video et taceo (\"I see and keep silent\"). In religion, she was relatively tolerant and avoided systematic persecution. After the pope declared her illegitimate in 1570, which in theory released English Catholics from allegiance to her, several conspiracies threatened her life, all of which were defeated with the help of her ministers' secret service, run by Sir Francis Walsingham. Elizabeth was cautious in foreign affairs, manoeuvring between the major powers of France and Spain. She half-heartedly supported a number of ineffective, poorly resourced military campaigns in the Netherlands, France,\n"
     ]
    }
   ],
   "source": [
    "print(response[0].page_content)"
   ]
  },
  {
   "cell_type": "code",
   "execution_count": 13,
   "metadata": {},
   "outputs": [],
   "source": [
    "from langchain.chains import RetrievalQA\n",
    "\n",
    "vector_qa = RetrievalQA.from_chain_type(\n",
    "    llm=gpt4,\n",
    "    chain_type=\"stuff\",\n",
    "    retriever=vector_index.as_retriever()\n",
    ")"
   ]
  },
  {
   "cell_type": "code",
   "execution_count": 14,
   "metadata": {},
   "outputs": [
    {
     "name": "stderr",
     "output_type": "stream",
     "text": [
      "/Users/himankjain/Desktop/Langchain/llm/lib/python3.11/site-packages/langchain_core/_api/deprecation.py:119: LangChainDeprecationWarning: The method `Chain.run` was deprecated in langchain 0.1.0 and will be removed in 0.3.0. Use invoke instead.\n",
      "  warn_deprecated(\n"
     ]
    },
    {
     "data": {
      "text/plain": [
       "'Elizabeth I was born at Greenwich Palace in England on September 7, 1533.'"
      ]
     },
     "execution_count": 14,
     "metadata": {},
     "output_type": "execute_result"
    }
   ],
   "source": [
    "vector_qa.run(\n",
    "    \"Where was Elizabeth born?\"\n",
    ")"
   ]
  },
  {
   "cell_type": "code",
   "execution_count": 15,
   "metadata": {},
   "outputs": [
    {
     "data": {
      "text/plain": [
       "\"According to Henry VIII's will, the line of succession was as follows:\\n\\n1. Edward VI (his son)\\n2. Mary I (his daughter from his first marriage to Catherine of Aragon)\\n3. Elizabeth I (his daughter from his second marriage to Anne Boleyn)\\n4. Jane Grey (his great-niece, granddaughter of his younger sister Mary Tudor)\\n5. Katherine Grey (Jane Grey's sister)\\n6. Mary Grey (Jane Grey's sister)\\n7. Margaret Clifford (granddaughter of his elder sister Margaret Tudor)\\n\\nThese individuals were named as the line of succession at the time of Henry VIII's death in 1547.\""
      ]
     },
     "execution_count": 15,
     "metadata": {},
     "output_type": "execute_result"
    }
   ],
   "source": [
    "vector_qa.run(\n",
    "    \"Who all were in line of sucession to Henry VIII\"\n",
    ")"
   ]
  },
  {
   "cell_type": "code",
   "execution_count": 16,
   "metadata": {},
   "outputs": [
    {
     "data": {
      "text/plain": [
       "'Mary Tudor, the younger sister of Henry VIII, had two surviving daughters with her second husband, Charles Brandon, 1st Duke of Suffolk. Their names were Frances Grey, Duchess of Suffolk, and Eleanor Clifford, Countess of Cumberland.'"
      ]
     },
     "execution_count": 16,
     "metadata": {},
     "output_type": "execute_result"
    }
   ],
   "source": [
    "vector_qa.run(\n",
    "    \"Who many children did Mary Tudor have?\"\n",
    ")"
   ]
  },
  {
   "cell_type": "code",
   "execution_count": 18,
   "metadata": {},
   "outputs": [
    {
     "data": {
      "text/plain": [
       "'The title given to Serjeant Painter was \"Serjeant Painter.\" This was an official position held by an artist who was responsible for approving all portraits of the queen created by other artists. In the context provided, George Gower was appointed as Serjeant Painter in 1581 during Queen Elizabeth I\\'s reign.'"
      ]
     },
     "execution_count": 18,
     "metadata": {},
     "output_type": "execute_result"
    }
   ],
   "source": [
    "vector_qa.run(\n",
    "    \"What title was given to Serjeant Painter?\"\n",
    ")"
   ]
  },
  {
   "cell_type": "markdown",
   "metadata": {},
   "source": [
    "Devops"
   ]
  },
  {
   "cell_type": "code",
   "execution_count": 90,
   "metadata": {},
   "outputs": [
    {
     "name": "stdout",
     "output_type": "stream",
     "text": [
      "\n",
      "\n",
      "\u001b[1m> Entering new AgentExecutor chain...\u001b[0m\n",
      "\u001b[32;1m\u001b[1;3m\n",
      "Invoking: `Tasks` with `Which tasks have optimization in their description?`\n",
      "\n",
      "\n",
      "\u001b[0m\u001b[36;1m\u001b[1;3mThere are four tasks with optimization in their description:\n",
      "\n",
      "1. Task name: Optimize\n",
      "   Description: Optimize PaymentService\n",
      "   Status: Open\n",
      "\n",
      "2. Task name: Optimize\n",
      "   Description: Optimize PaymentService\n",
      "   Status: Open\n",
      "\n",
      "3. Task name: Optimize\n",
      "   Description: Optimize AuthService\n",
      "   Status: Open\n",
      "\n",
      "4. Task name: Optimize\n",
      "   Description: Optimize AuthService\n",
      "   Status: Open\u001b[0m\u001b[32;1m\u001b[1;3mThere are four tasks with optimization in their description:\n",
      "\n",
      "1. Task name: Optimize\n",
      "   Description: Optimize PaymentService\n",
      "   Status: Open\n",
      "\n",
      "2. Task name: Optimize\n",
      "   Description: Optimize PaymentService\n",
      "   Status: Open\n",
      "\n",
      "3. Task name: Optimize\n",
      "   Description: Optimize AuthService\n",
      "   Status: Open\n",
      "\n",
      "4. Task name: Optimize\n",
      "   Description: Optimize AuthService\n",
      "   Status: Open\u001b[0m\n",
      "\n",
      "\u001b[1m> Finished chain.\u001b[0m\n",
      "There are four tasks with optimization in their description:\n",
      "\n",
      "1. Task name: Optimize\n",
      "   Description: Optimize PaymentService\n",
      "   Status: Open\n",
      "\n",
      "2. Task name: Optimize\n",
      "   Description: Optimize PaymentService\n",
      "   Status: Open\n",
      "\n",
      "3. Task name: Optimize\n",
      "   Description: Optimize AuthService\n",
      "   Status: Open\n",
      "\n",
      "4. Task name: Optimize\n",
      "   Description: Optimize AuthService\n",
      "   Status: Open\n"
     ]
    }
   ],
   "source": []
  }
 ],
 "metadata": {
  "kernelspec": {
   "display_name": "llm",
   "language": "python",
   "name": "python3"
  },
  "language_info": {
   "codemirror_mode": {
    "name": "ipython",
    "version": 3
   },
   "file_extension": ".py",
   "mimetype": "text/x-python",
   "name": "python",
   "nbconvert_exporter": "python",
   "pygments_lexer": "ipython3",
   "version": "3.11.9"
  }
 },
 "nbformat": 4,
 "nbformat_minor": 2
}
